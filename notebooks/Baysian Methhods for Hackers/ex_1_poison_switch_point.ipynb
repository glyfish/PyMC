{
 "cells": [
  {
   "cell_type": "markdown",
   "metadata": {},
   "source": [
    "# Example 1 Poisson Switch Point\n",
    "\n",
    "Here PyMC is used to solve for a change in rate of a Poisson distribution which models a change in the messaging behavior of an individual. The message rates are denoted by $\\lambda_1$ and $\\lambda_2$ and the day the message rate switches from $\\lambda_1$ to $\\lambda_2$ is denoted by $\\tau$. The total number of days of data is denoted by $n$. Bayesian analysis assumes all model parameters are modeled with distributions themselves referred to as priors. For $\\lambda_1$ and $\\lambda_2$ the priors have the same  hyperparameter or parent variable denoted by $\\alpha$ with distribution,\n",
    "\n",
    "$\n",
    "\\begin{align}\n",
    "\\lambda_1 &\\sim \\text{Exp}(\\alpha) \\\\\n",
    "\\lambda_2 &\\sim \\text{Exp}(\\alpha)\n",
    "\\end{align}\n",
    "\\tag{1}\n",
    "$\n",
    "\n",
    "and $\\text{E}(\\lambda_1) = \\text{E}(\\lambda_1 ) = 1 / \\alpha$. The switch point, $\\\\tau$ prior is assumed to be uniform of the number of days spanned by the data,\n",
    "\n",
    "$\n",
    "\\begin{align}\n",
    "\\tau &\\sim \\text{Discrete Uniform}(1, n)\n",
    "\\end{align}\n",
    "\\tag{1}\n",
    "$\n",
    "\n",
    "so the density is constant and given by $P[\\tau = k] = 1 / n$."
   ]
  },
  {
   "cell_type": "code",
   "execution_count": 2,
   "metadata": {},
   "outputs": [],
   "source": [
    "%reload_ext autoreload\n",
    "%autoreload 2\n",
    "\n",
    "# import system modules and set local import path\n",
    "import os\n",
    "import sys\n",
    "import numpy\n",
    "from matplotlib import pyplot\n",
    "import pymc\n",
    "\n",
    "sys.path.insert(0, os.path.abspath('../..'))\n",
    "\n",
    "from lib import config\n",
    "from lib.plots import (curve, bar, twinx_bar_line, fcurve_scatter_comparison, positive_negative_bar)\n",
    "\n",
    "pyplot.style.use(config.glyfish_style)"
   ]
  },
  {
   "cell_type": "code",
   "execution_count": 3,
   "metadata": {},
   "outputs": [],
   "source": [
    "def message_simulator(lambda_1, lambda_2, ndays, switch_day):\n",
    "    switch_day = min(switch_day, ndays)   \n",
    "    msgs_1 = numpy.random.poisson(lambda_1, switch_day)\n",
    "    if switch_day < ndays:\n",
    "        msgs_2 = numpy.random.poisson(lambda_2, ndays - switch_day)\n",
    "        return numpy.concatenate((msgs_1, msgs_2))\n",
    "    else:\n",
    "        return msgs_1"
   ]
  },
  {
   "cell_type": "code",
   "execution_count": 4,
   "metadata": {},
   "outputs": [
    {
     "data": {
      "image/png": "[encoded data removed]",
      "text/plain": [
       "<Figure size 1000x600 with 1 Axes>"
      ]
     },
     "metadata": {},
     "output_type": "display_data"
    }
   ],
   "source": [
    "lambda_1 = 10\n",
    "lambda_2 = 15\n",
    "ndays = 100\n",
    "tau = 50\n",
    "messages = message_simulator(lambda_1, lambda_2, ndays, tau)\n",
    "\n",
    "bar(messages, ylabel='Messages', xlabel='Day', title=f\"Messages per Day\\n$\\\\lambda_1$={lambda_1}, $\\\\lambda_2$={lambda_2}, $\\\\tau$={tau}\", alpha=1.0, bar_width=0.6)"
   ]
  },
  {
   "cell_type": "code",
   "execution_count": 5,
   "metadata": {},
   "outputs": [
    {
     "name": "stderr",
     "output_type": "stream",
     "text": [
      "Only 1 samples per chain. Reliable r-hat and ESS diagnostics require longer chains for accurate estimate.\n",
      "Multiprocess sampling (4 chains in 4 jobs)\n",
      "CompoundStep\n",
      ">NUTS: [lambda_1, lambda_2]\n",
      ">Metropolis: [tau]\n"
     ]
    },
    {
     "data": {
      "text/html": [
       "<pre style=\"white-space:pre;overflow-x:auto;line-height:normal;font-family:Menlo,'DejaVu Sans Mono',consolas,'Courier New',monospace\">/Users/troy/.pyenv/versions/3.11.2/envs/pymc-3.11.2/lib/python3.11/site-packages/rich/live.py:231: UserWarning: \n",
       "install \"ipywidgets\" for Jupyter support\n",
       "  warnings.warn('install \"ipywidgets\" for Jupyter support')\n",
       "</pre>\n"
      ],
      "text/plain": [
       "/Users/troy/.pyenv/versions/3.11.2/envs/pymc-3.11.2/lib/python3.11/site-packages/rich/live.py:231: UserWarning: \n",
       "install \"ipywidgets\" for Jupyter support\n",
       "  warnings.warn('install \"ipywidgets\" for Jupyter support')\n"
      ]
     },
     "metadata": {},
     "output_type": "display_data"
    },
    {
     "data": {
      "text/html": [
       "<pre style=\"white-space:pre;overflow-x:auto;line-height:normal;font-family:Menlo,'DejaVu Sans Mono',consolas,'Courier New',monospace\"></pre>\n"
      ],
      "text/plain": []
     },
     "metadata": {},
     "output_type": "display_data"
    },
    {
     "name": "stderr",
     "output_type": "stream",
     "text": [
      "Sampling 4 chains for 1_000 tune and 1 draw iterations (4_000 + 4 draws total) took 1 seconds.\n",
      "/Users/troy/.pyenv/versions/3.11.2/envs/pymc-3.11.2/lib/python3.11/site-packages/arviz/data/base.py:272: UserWarning: More chains (4) than draws (1). Passed array should have shape (chains, draws, *shape)\n",
      "  warnings.warn(\n",
      "The number of samples is too small to check convergence reliably.\n"
     ]
    }
   ],
   "source": [
    "alpha = 1.0 / messages.mean()\n",
    "\n",
    "with pymc.Model() as model:\n",
    "    lambda_1 = pymc.Exponential('lambda_1', alpha)\n",
    "    lambda_2 = pymc.Exponential('lambda_2', alpha)\n",
    "    tau = pymc.DiscreteUniform('tau', lower=0, upper=ndays)\n",
    "    \n",
    "    trace = pymc.sample(1)"
   ]
  }
 ],
 "metadata": {
  "kernelspec": {
   "display_name": "pymc-3.11.2",
   "language": "python",
   "name": "python3"
  },
  "language_info": {
   "codemirror_mode": {
    "name": "ipython",
    "version": 3
   },
   "file_extension": ".py",
   "mimetype": "text/x-python",
   "name": "python",
   "nbconvert_exporter": "python",
   "pygments_lexer": "ipython3",
   "version": "3.11.2"
  }
 },
 "nbformat": 4,
 "nbformat_minor": 2
}
